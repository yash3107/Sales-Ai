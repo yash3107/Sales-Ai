{
 "cells": [
  {
   "cell_type": "code",
   "execution_count": 17,
   "id": "98d255e1-86de-45d3-89a0-071f612bd73f",
   "metadata": {},
   "outputs": [
    {
     "name": "stdout",
     "output_type": "stream",
     "text": [
      "Requirement already satisfied: langchain in c:\\users\\riju3\\anaconda3\\lib\\site-packages (0.2.10)Note: you may need to restart the kernel to use updated packages.\n",
      "\n",
      "Requirement already satisfied: transformers in c:\\users\\riju3\\anaconda3\\lib\\site-packages (4.42.4)\n",
      "Requirement already satisfied: torch in c:\\users\\riju3\\anaconda3\\lib\\site-packages (2.3.1)\n",
      "Requirement already satisfied: accelerate in c:\\users\\riju3\\anaconda3\\lib\\site-packages (0.33.0)\n",
      "Requirement already satisfied: PyYAML>=5.3 in c:\\users\\riju3\\anaconda3\\lib\\site-packages (from langchain) (6.0.1)\n",
      "Requirement already satisfied: SQLAlchemy<3,>=1.4 in c:\\users\\riju3\\anaconda3\\lib\\site-packages (from langchain) (2.0.25)\n",
      "Requirement already satisfied: aiohttp<4.0.0,>=3.8.3 in c:\\users\\riju3\\anaconda3\\lib\\site-packages (from langchain) (3.9.3)\n",
      "Requirement already satisfied: langchain-core<0.3.0,>=0.2.22 in c:\\users\\riju3\\anaconda3\\lib\\site-packages (from langchain) (0.2.22)\n",
      "Requirement already satisfied: langchain-text-splitters<0.3.0,>=0.2.0 in c:\\users\\riju3\\anaconda3\\lib\\site-packages (from langchain) (0.2.2)\n",
      "Requirement already satisfied: langsmith<0.2.0,>=0.1.17 in c:\\users\\riju3\\anaconda3\\lib\\site-packages (from langchain) (0.1.93)\n",
      "Requirement already satisfied: numpy<2,>=1 in c:\\users\\riju3\\anaconda3\\lib\\site-packages (from langchain) (1.26.4)\n",
      "Requirement already satisfied: pydantic<3,>=1 in c:\\users\\riju3\\anaconda3\\lib\\site-packages (from langchain) (2.8.2)\n",
      "Requirement already satisfied: requests<3,>=2 in c:\\users\\riju3\\anaconda3\\lib\\site-packages (from langchain) (2.32.3)\n",
      "Requirement already satisfied: tenacity!=8.4.0,<9.0.0,>=8.1.0 in c:\\users\\riju3\\anaconda3\\lib\\site-packages (from langchain) (8.2.2)\n",
      "Requirement already satisfied: filelock in c:\\users\\riju3\\anaconda3\\lib\\site-packages (from transformers) (3.13.1)\n",
      "Requirement already satisfied: huggingface-hub<1.0,>=0.23.2 in c:\\users\\riju3\\anaconda3\\lib\\site-packages (from transformers) (0.23.4)\n",
      "Requirement already satisfied: packaging>=20.0 in c:\\users\\riju3\\anaconda3\\lib\\site-packages (from transformers) (24.1)\n",
      "Requirement already satisfied: regex!=2019.12.17 in c:\\users\\riju3\\anaconda3\\lib\\site-packages (from transformers) (2023.10.3)\n",
      "Requirement already satisfied: safetensors>=0.4.1 in c:\\users\\riju3\\anaconda3\\lib\\site-packages (from transformers) (0.4.3)\n",
      "Requirement already satisfied: tokenizers<0.20,>=0.19 in c:\\users\\riju3\\anaconda3\\lib\\site-packages (from transformers) (0.19.1)\n",
      "Requirement already satisfied: tqdm>=4.27 in c:\\users\\riju3\\anaconda3\\lib\\site-packages (from transformers) (4.66.4)\n",
      "Requirement already satisfied: typing-extensions>=4.8.0 in c:\\users\\riju3\\anaconda3\\lib\\site-packages (from torch) (4.9.0)\n",
      "Requirement already satisfied: sympy in c:\\users\\riju3\\anaconda3\\lib\\site-packages (from torch) (1.12)\n",
      "Requirement already satisfied: networkx in c:\\users\\riju3\\anaconda3\\lib\\site-packages (from torch) (3.1)\n",
      "Requirement already satisfied: jinja2 in c:\\users\\riju3\\anaconda3\\lib\\site-packages (from torch) (3.1.3)\n",
      "Requirement already satisfied: fsspec in c:\\users\\riju3\\anaconda3\\lib\\site-packages (from torch) (2023.10.0)\n",
      "Requirement already satisfied: mkl<=2021.4.0,>=2021.1.1 in c:\\users\\riju3\\anaconda3\\lib\\site-packages (from torch) (2021.4.0)\n",
      "Requirement already satisfied: psutil in c:\\users\\riju3\\anaconda3\\lib\\site-packages (from accelerate) (5.9.0)\n",
      "Requirement already satisfied: aiosignal>=1.1.2 in c:\\users\\riju3\\anaconda3\\lib\\site-packages (from aiohttp<4.0.0,>=3.8.3->langchain) (1.2.0)\n",
      "Requirement already satisfied: attrs>=17.3.0 in c:\\users\\riju3\\anaconda3\\lib\\site-packages (from aiohttp<4.0.0,>=3.8.3->langchain) (23.1.0)\n",
      "Requirement already satisfied: frozenlist>=1.1.1 in c:\\users\\riju3\\anaconda3\\lib\\site-packages (from aiohttp<4.0.0,>=3.8.3->langchain) (1.4.0)\n",
      "Requirement already satisfied: multidict<7.0,>=4.5 in c:\\users\\riju3\\anaconda3\\lib\\site-packages (from aiohttp<4.0.0,>=3.8.3->langchain) (6.0.4)\n",
      "Requirement already satisfied: yarl<2.0,>=1.0 in c:\\users\\riju3\\anaconda3\\lib\\site-packages (from aiohttp<4.0.0,>=3.8.3->langchain) (1.9.3)\n",
      "Requirement already satisfied: jsonpatch<2.0,>=1.33 in c:\\users\\riju3\\anaconda3\\lib\\site-packages (from langchain-core<0.3.0,>=0.2.22->langchain) (1.33)\n",
      "Requirement already satisfied: orjson<4.0.0,>=3.9.14 in c:\\users\\riju3\\anaconda3\\lib\\site-packages (from langsmith<0.2.0,>=0.1.17->langchain) (3.10.6)\n",
      "Requirement already satisfied: intel-openmp==2021.* in c:\\users\\riju3\\anaconda3\\lib\\site-packages (from mkl<=2021.4.0,>=2021.1.1->torch) (2021.4.0)\n",
      "Requirement already satisfied: tbb==2021.* in c:\\users\\riju3\\anaconda3\\lib\\site-packages (from mkl<=2021.4.0,>=2021.1.1->torch) (2021.13.0)\n",
      "Requirement already satisfied: annotated-types>=0.4.0 in c:\\users\\riju3\\anaconda3\\lib\\site-packages (from pydantic<3,>=1->langchain) (0.7.0)\n",
      "Requirement already satisfied: pydantic-core==2.20.1 in c:\\users\\riju3\\anaconda3\\lib\\site-packages (from pydantic<3,>=1->langchain) (2.20.1)\n",
      "Requirement already satisfied: charset-normalizer<4,>=2 in c:\\users\\riju3\\anaconda3\\lib\\site-packages (from requests<3,>=2->langchain) (2.0.4)\n",
      "Requirement already satisfied: idna<4,>=2.5 in c:\\users\\riju3\\anaconda3\\lib\\site-packages (from requests<3,>=2->langchain) (3.4)\n",
      "Requirement already satisfied: urllib3<3,>=1.21.1 in c:\\users\\riju3\\anaconda3\\lib\\site-packages (from requests<3,>=2->langchain) (2.0.7)\n",
      "Requirement already satisfied: certifi>=2017.4.17 in c:\\users\\riju3\\anaconda3\\lib\\site-packages (from requests<3,>=2->langchain) (2024.2.2)\n",
      "Requirement already satisfied: greenlet!=0.4.17 in c:\\users\\riju3\\anaconda3\\lib\\site-packages (from SQLAlchemy<3,>=1.4->langchain) (3.0.1)\n",
      "Requirement already satisfied: colorama in c:\\users\\riju3\\anaconda3\\lib\\site-packages (from tqdm>=4.27->transformers) (0.4.6)\n",
      "Requirement already satisfied: MarkupSafe>=2.0 in c:\\users\\riju3\\anaconda3\\lib\\site-packages (from jinja2->torch) (2.1.3)\n",
      "Requirement already satisfied: mpmath>=0.19 in c:\\users\\riju3\\anaconda3\\lib\\site-packages (from sympy->torch) (1.3.0)\n",
      "Requirement already satisfied: jsonpointer>=1.9 in c:\\users\\riju3\\anaconda3\\lib\\site-packages (from jsonpatch<2.0,>=1.33->langchain-core<0.3.0,>=0.2.22->langchain) (2.1)\n"
     ]
    }
   ],
   "source": [
    "pip install langchain transformers torch accelerate"
   ]
  },
  {
   "cell_type": "code",
   "execution_count": 8,
   "id": "2a341cc4-2cb9-4adf-81d0-e77b450919d1",
   "metadata": {},
   "outputs": [
    {
     "name": "stderr",
     "output_type": "stream",
     "text": [
      "Some weights of DistilBertForQuestionAnswering were not initialized from the model checkpoint at distilbert-base-uncased and are newly initialized: ['qa_outputs.bias', 'qa_outputs.weight']\n",
      "You should probably TRAIN this model on a down-stream task to be able to use it for predictions and inference.\n"
     ]
    },
    {
     "name": "stdout",
     "output_type": "stream",
     "text": [
      "Query: Why should I buy such expensive tires?\n",
      "Answer: roading tires involves considering various factors, including tire quality, cost, and warranty options. Investing in high-quality, durable tires will ensure that your vehicle is equipped to handle the toughest roading tire brands offer warranties that cover defects in materials and workmanship for a certain period or mileage, typically ranging from 40,000 to 60,000 miles. roading tire brands offer warranties that cover defects in materials and workmanship for a certain period or mileage,\n"
     ]
    }
   ],
   "source": [
    "from transformers import pipeline\n",
    "\n",
    "# Initialize the QA pipeline\n",
    "qa_pipeline = pipeline(\"question-answering\", model=\"distilbert-base-uncased\")\n",
    "\n",
    "def load_text_file(file_path):\n",
    "    \"\"\"Load the content of a text file.\"\"\"\n",
    "    with open(file_path, 'r', encoding='utf-8') as file:\n",
    "        content = file.read()\n",
    "    return content\n",
    "\n",
    "def ensure_complete_sentence(answer):\n",
    "    \"\"\"Ensure that the generated answer ends with a complete sentence.\"\"\"\n",
    "    if answer and not answer.endswith(('.', '!', '?')):\n",
    "        # Find the last sentence-ending punctuation\n",
    "        sentence_end_index = max(answer.rfind('.'), answer.rfind('!'), answer.rfind('?'))\n",
    "        if sentence_end_index != -1:\n",
    "            return answer[:sentence_end_index + 1]\n",
    "    return answer\n",
    "    \n",
    "def answer_query_from_text(text, question):\n",
    "    \"\"\"Answer a user query based on the content of the text.\"\"\"\n",
    "    responses = qa_pipeline(question=question, context=text, top_k=3, max_answer_len=40)\n",
    "    answers = [response['answer'] for response in responses]\n",
    "    combined_answer = \" \".join(answers)\n",
    "    return combined_answer  # Return the combined answer\n",
    "\n",
    "# Load the text file\n",
    "file_path = 'C:/Users/riju3/Downloads/Tirebook.txt'\n",
    "text_content = load_text_file(file_path)\n",
    "\n",
    "# User query\n",
    "user_query = \"Why should I buy such expensive tires?\"\n",
    "\n",
    "# Get the answer from the text content\n",
    "answer = answer_query_from_text(text_content, user_query)\n",
    "\n",
    "# Print the result\n",
    "print(f\"Query: {user_query}\")\n",
    "print(f\"Answer: {answer}\")\n",
    "\n",
    "\n"
   ]
  },
  {
   "cell_type": "code",
   "execution_count": 9,
   "id": "eb1d0bab-e3b3-4d10-b693-ffff04428d72",
   "metadata": {},
   "outputs": [
    {
     "name": "stderr",
     "output_type": "stream",
     "text": [
      "Setting `pad_token_id` to `eos_token_id`:50256 for open-end generation.\n"
     ]
    },
    {
     "name": "stdout",
     "output_type": "stream",
     "text": [
      "Why should I buy such expensive tires?roading tires involves considering various factors, including tire quality, cost, and warranty options. Investing in high-quality, durable tires will ensure that your vehicle is equipped to handle the toughest roading tire brands offer warranties that cover defects in materials and workmanship for a certain period or mileage, typically ranging from 40,000 to 60,000 miles. roading tire brands offer warranties that cover defects in materials and workmanship for a certain period or mileage, usually ranging from 50,000, to 80,000.\n",
      "\n",
      "How much should I spend on a high-end road tire?\n",
      "\n",
      "In most cases, you should expect to pay about $100-$200 per tire.\n"
     ]
    }
   ],
   "source": [
    "from transformers import pipeline\n",
    "\n",
    "# Load the text generation pipeline with GPT-2\n",
    "generator = pipeline(\"text-generation\", model=\"gpt2\")\n",
    "\n",
    "def ensure_complete_sentence(text):\n",
    "    \"\"\"Ensure that the generated text ends with a complete sentence.\"\"\"\n",
    "    if text and not text.endswith(('.', '!', '?')):\n",
    "        # Find the last sentence-ending punctuation\n",
    "        sentence_end_index = max(text.rfind('.'), text.rfind('!'), text.rfind('?'))\n",
    "        if sentence_end_index != -1:\n",
    "            return text[:sentence_end_index + 1]\n",
    "    return text\n",
    "\n",
    "# User query and generated answer\n",
    "prompt = user_query + answer\n",
    "\n",
    "# Generate text and ensure complete sentences\n",
    "result = generator(prompt, num_return_sequences=2, max_new_tokens=60, no_repeat_ngram_size=3, temperature=0.7, top_p=0.9)\n",
    "generated_text = ensure_complete_sentence(result[0]['generated_text'])\n",
    "\n",
    "print(generated_text)\n"
   ]
  },
  {
   "cell_type": "code",
   "execution_count": null,
   "id": "1932d0b2-2372-4c4a-b75d-683bbc255dc4",
   "metadata": {},
   "outputs": [],
   "source": []
  }
 ],
 "metadata": {
  "kernelspec": {
   "display_name": "Python 3 (ipykernel)",
   "language": "python",
   "name": "python3"
  },
  "language_info": {
   "codemirror_mode": {
    "name": "ipython",
    "version": 3
   },
   "file_extension": ".py",
   "mimetype": "text/x-python",
   "name": "python",
   "nbconvert_exporter": "python",
   "pygments_lexer": "ipython3",
   "version": "3.11.7"
  }
 },
 "nbformat": 4,
 "nbformat_minor": 5
}
